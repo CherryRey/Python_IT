{
 "cells": [
  {
   "cell_type": "code",
   "execution_count": 2,
   "metadata": {},
   "outputs": [
    {
     "data": {
      "text/plain": [
       "<re.Match object; span=(2, 5), match='aza'>"
      ]
     },
     "execution_count": 2,
     "metadata": {},
     "output_type": "execute_result"
    }
   ],
   "source": [
    "import re\n",
    "\n",
    "result = re.search(r\"aza\", \"plaza\")\n",
    "result"
   ]
  },
  {
   "cell_type": "code",
   "execution_count": 3,
   "metadata": {},
   "outputs": [
    {
     "data": {
      "text/plain": [
       "<re.Match object; span=(1, 4), match='aza'>"
      ]
     },
     "execution_count": 3,
     "metadata": {},
     "output_type": "execute_result"
    }
   ],
   "source": [
    "result = re.search(r\"aza\", \"bazaar\")\n",
    "\n",
    "result"
   ]
  },
  {
   "cell_type": "code",
   "execution_count": 4,
   "metadata": {},
   "outputs": [
    {
     "name": "stdout",
     "output_type": "stream",
     "text": [
      "True\n",
      "False\n",
      "True\n"
     ]
    }
   ],
   "source": [
    "import re\n",
    "def check_aei (text):\n",
    "  result = re.search(r\"a.e.i\", text)\n",
    "  return result != None\n",
    "\n",
    "print(check_aei(\"academia\")) # True\n",
    "print(check_aei(\"aerial\")) # False\n",
    "print(check_aei(\"paramedic\")) # True"
   ]
  },
  {
   "cell_type": "code",
   "execution_count": 5,
   "metadata": {},
   "outputs": [
    {
     "data": {
      "text/plain": [
       "<re.Match object; span=(0, 4), match='Pang'>"
      ]
     },
     "execution_count": 5,
     "metadata": {},
     "output_type": "execute_result"
    }
   ],
   "source": [
    "result = re.search(r\"p.ng\", \"Pangea\", re.IGNORECASE)\n",
    "\n",
    "result"
   ]
  },
  {
   "cell_type": "code",
   "execution_count": 6,
   "metadata": {},
   "outputs": [
    {
     "name": "stdout",
     "output_type": "stream",
     "text": [
      "<re.Match object; span=(0, 6), match='cloudy'>\n",
      "<re.Match object; span=(0, 6), match='cloud9'>\n"
     ]
    }
   ],
   "source": [
    "print(re.search(r\"cloud[a-z-A-Z-0-9]\", \"cloudy\"))\n",
    "print(re.search(r\"cloud[a-zA-Z0-9]\", \"cloud90\"))"
   ]
  },
  {
   "cell_type": "markdown",
   "metadata": {},
   "source": [
    "Fill in the code to check if the text passed contains punctuation symbols: commas, periods, colons, semicolons, question marks, and exclamation points."
   ]
  },
  {
   "cell_type": "code",
   "execution_count": 7,
   "metadata": {},
   "outputs": [
    {
     "name": "stdout",
     "output_type": "stream",
     "text": [
      "True\n",
      "False\n",
      "True\n",
      "True\n",
      "False\n"
     ]
    }
   ],
   "source": [
    "import re\n",
    "def check_punctuation (text):\n",
    "  result = re.search(r\"[,.;:?!]\", text)\n",
    "  return result != None\n",
    "\n",
    "print(check_punctuation(\"This is a sentence that ends with a period.\")) # True\n",
    "print(check_punctuation(\"This is a sentence fragment without a period\")) # False\n",
    "print(check_punctuation(\"Aren't regular expressions awesome?\")) # True\n",
    "print(check_punctuation(\"Wow! We're really picking up some steam now!\")) # True\n",
    "print(check_punctuation(\"End of the line\")) # False"
   ]
  },
  {
   "cell_type": "markdown",
   "metadata": {},
   "source": [
    "### Repetition Qualifiers"
   ]
  },
  {
   "cell_type": "markdown",
   "metadata": {},
   "source": [
    "The repeating_letter_a function checks if the text passed includes the letter \"a\" (lowercase or uppercase) at least twice.\\\n",
    "For example, repeating_letter_a(\"banana\") is True, while repeating_letter_a(\"pineapple\") is False. Fill in the code to make this work. "
   ]
  },
  {
   "cell_type": "code",
   "execution_count": 8,
   "metadata": {},
   "outputs": [
    {
     "name": "stdout",
     "output_type": "stream",
     "text": [
      "True\n",
      "False\n",
      "True\n",
      "True\n"
     ]
    }
   ],
   "source": [
    "import re\n",
    "def repeating_letter_a(text):\n",
    "  result = re.search(r\"[aA].*a\", text)\n",
    "  return result != None\n",
    "\n",
    "print(repeating_letter_a(\"banana\")) # True\n",
    "print(repeating_letter_a(\"pineapple\")) # False\n",
    "print(repeating_letter_a(\"Animal Kingdom\")) # True\n",
    "print(repeating_letter_a(\"A is for apple\")) # True"
   ]
  },
  {
   "cell_type": "code",
   "execution_count": 9,
   "metadata": {},
   "outputs": [
    {
     "name": "stdout",
     "output_type": "stream",
     "text": [
      "<re.Match object; span=(0, 20), match='Python is a nice lan'>\n",
      "<re.Match object; span=(0, 13), match='Python is a n'>\n",
      "<re.Match object; span=(0, 6), match='Python'>\n"
     ]
    }
   ],
   "source": [
    "# (.*) Incluye todos los caracteres sin importar la longitud de la cadena mostrando la coincidencia más larga\n",
    "\n",
    "print(re.search(r\"Py.*n\", \"Python is a nice language\"))\n",
    "print(re.search(r\"Py.*n\", \"Python is a nice programm\"))\n",
    "print(re.search(r\"Py.*n\", \"Python is cool\"))"
   ]
  },
  {
   "cell_type": "code",
   "execution_count": 10,
   "metadata": {},
   "outputs": [
    {
     "name": "stdout",
     "output_type": "stream",
     "text": [
      "<re.Match object; span=(0, 6), match='Python'>\n",
      "<re.Match object; span=(12, 18), match='Python'>\n",
      "None\n"
     ]
    }
   ],
   "source": [
    "# ¿Pero si quiero solo letras y no espacios o número usando solo (*)? Entonces usamos \"character class\"\n",
    "\n",
    "print(re.search(r\"P[a-z]*n\",\"Python is a nice language\"))\n",
    "print(re.search(r\"P[a-z]*n\",\"Ilik3tol3arnPython\"))\n",
    "print(re.search(r\"P[a-z]*n\",\"Ilik3tol3arnPyth0n\"))"
   ]
  },
  {
   "cell_type": "code",
   "execution_count": 11,
   "metadata": {},
   "outputs": [
    {
     "name": "stdout",
     "output_type": "stream",
     "text": [
      "<re.Match object; span=(1, 4), match='ell'>\n",
      "<re.Match object; span=(2, 5), match='eel'>\n",
      "<re.Match object; span=(1, 3), match='el'>\n",
      "None\n"
     ]
    }
   ],
   "source": [
    "#Python y Egrep tiene otros \"repetition qualifiers\" que son (+) y (?)\n",
    "# El caracter \"+\" busca una o más coincidencias mientras sean los mismos caracteres\n",
    "\n",
    "print(re.search(r\"e+l+\", \"hello\"))\n",
    "print(re.search(r\"e+l+\", \"wheel\"))\n",
    "print(re.search(r\"e+l+\", \"pelican\"))\n",
    "print(re.search(r\"e+l+\", \"reveille\")) #Aquí hay un \"i\" en medio por lo que ya no hay coincidencias"
   ]
  },
  {
   "cell_type": "code",
   "execution_count": 12,
   "metadata": {},
   "outputs": [
    {
     "name": "stdout",
     "output_type": "stream",
     "text": [
      "<re.Match object; span=(11, 15), match='each'>\n",
      "<re.Match object; span=(12, 16), match='each'>\n",
      "<re.Match object; span=(7, 12), match='peach'>\n"
     ]
    }
   ],
   "source": [
    "#El carácter \"?\" es un multiplicador, buscará la coincidencia de la cadena que le sigue, pudiendo o no aparecer el primer carácter antes de \"?\"\n",
    "\n",
    "print(re.search(r\"p?each\", \"They were reaching some ideas\"))\n",
    "print(re.search(r\"p?each\", \"They were preaching\"))#aunque haya una \"p\" antes de each hay otro caracter \"r\", por lo que la coincidencia sera \"each\"\n",
    "print(re.search(r\"p?each\", \"I like peaches\"))\n"
   ]
  },
  {
   "cell_type": "markdown",
   "metadata": {},
   "source": [
    "Escpaing characters\\\n",
    "Si queremos buscar caracteres especiales utilizaremos backslash \"\\\" \\\n",
    "Por otro lado, Python cuando queremos indicar un salto de línea usamos \"\\n\", un nueva tabulacion \"\\t\" . Para evitar que se escape un caracter especial usamos raw strings \"r\".\n"
   ]
  },
  {
   "cell_type": "markdown",
   "metadata": {},
   "source": [
    "* \\w. Coincidencia de cualquier caracter alfanumérico incluyendo LETRAS, NÚMEROS Y GUION BAJO\n",
    "* \\d. Coincidencia de sólo digitos.\n",
    "* \\s. Coincidencia de ESPACIOS BLANCOS, SALTO DE LÍNEA Y TABULACIÓN\n"
   ]
  },
  {
   "cell_type": "code",
   "execution_count": 30,
   "metadata": {},
   "outputs": [
    {
     "name": "stdout",
     "output_type": "stream",
     "text": [
      "<re.Match object; span=(1, 5), match='lcom'>\n",
      "<re.Match object; span=(21, 25), match='.com'>\n",
      "None\n",
      "<re.Match object; span=(5, 6), match='\\n'>\n"
     ]
    }
   ],
   "source": [
    "#En este ejemplo queremos buscar el dominio \".com\" que incluye un \".\" \n",
    "#Sin embargo si lo escribimos tal cual, regex interepretara el \".\" como \"cualquier caracter\"\n",
    "print(re.search(r\".com\", \"alcom_exemple@dominio.com\"))\n",
    "\n",
    "#Si colocamos \"\\\" antes de cualquier caracter, en este caso \".\" entonces sí que bsucara el dominio \".com\"\n",
    "print(re.search(r\"\\.com\", \"alcom_exemple@dominio.com\"))\n",
    "\n",
    "\n",
    "print(re.search(r\"n\", \"perro\\ngato\"))\n",
    "print(re.search(r\"\\n\", \"perro\\ngato\"))"
   ]
  },
  {
   "cell_type": "code",
   "execution_count": 35,
   "metadata": {},
   "outputs": [
    {
     "name": "stdout",
     "output_type": "stream",
     "text": [
      "<re.Match object; span=(0, 4), match='This'>\n",
      "<re.Match object; span=(0, 23), match='This_is_a_long_sentence'>\n"
     ]
    }
   ],
   "source": [
    "#Imprimira la priemra coincidencia, pero como \\w no incluye caracteres en blanco, solo imprimirá \"this\"\n",
    "print(re.search(r\"\\w*\", \"This is a long sentence\"))\n",
    "\n",
    "print(re.search(r\"\\w*\", \"This_is_a_long_sentence\"))"
   ]
  },
  {
   "cell_type": "markdown",
   "metadata": {},
   "source": [
    "Fill in the code to check if the text passed has at least 2 groups of alphanumeric characters (including letters, numbers, and underscores) separated by one or more whitespace characters."
   ]
  },
  {
   "cell_type": "code",
   "execution_count": 31,
   "metadata": {},
   "outputs": [
    {
     "name": "stdout",
     "output_type": "stream",
     "text": [
      "False\n",
      "True\n",
      "True\n",
      "False\n"
     ]
    }
   ],
   "source": [
    "import re\n",
    "def check_character_groups(text):\n",
    "  result = re.search(r\"\\w\\s\", text)\n",
    "  return result != None\n",
    "\n",
    "print(check_character_groups(\"One\")) # False\n",
    "print(check_character_groups(\"123  Ready Set GO\")) # True\n",
    "print(check_character_groups(\"username user_01\")) # True\n",
    "print(check_character_groups(\"shopping_list: milk, bread, eggs.\")) # False"
   ]
  },
  {
   "cell_type": "code",
   "execution_count": 43,
   "metadata": {},
   "outputs": [
    {
     "name": "stdout",
     "output_type": "stream",
     "text": [
      "<re.Match object; span=(0, 9), match='Argentina'>\n",
      "<re.Match object; span=(0, 9), match='argentina'>\n",
      "<re.Match object; span=(0, 9), match='Azerbaija'>\n",
      "<re.Match object; span=(1, 6), match='anama'>\n",
      "<re.Match object; span=(0, 9), match='Argentina'>\n",
      "<re.Match object; span=(0, 9), match='argentina'>\n",
      "None\n",
      "None\n"
     ]
    }
   ],
   "source": [
    "#Que una palabra coincida de principio a fin. \n",
    "#Queremos encontrar si un país empieza con A y termina con a\n",
    "print(re.search(r\"[aA].*a\", \"Argentina\"))\n",
    "print(re.search(r\"[aA].*a\", \"argentina\"))\n",
    "print(re.search(r\"[aA].*a\", \"Azerbaijan\"))#Hay una coincidencia pero no termina en \"a\" la palabra entera\n",
    "print(re.search(r\"[aA].*a\", \"Panama\"))# Hay coincidencia pero no empieza con A.\n",
    "\n",
    "#Utilizamos ^ y $ para especifica el principio y el final\n",
    "print(re.search(r\"^[aA].*a$\", \"Argentina\"))\n",
    "print(re.search(r\"^[aA].*a$\", \"argentina\"))\n",
    "print(re.search(r\"^[aA].*a$\", \"Azerbaijan\"))\n",
    "print(re.search(r\"^[aA].*a$\", \"Panama\"))"
   ]
  },
  {
   "cell_type": "markdown",
   "metadata": {},
   "source": [
    "Fill in the code to check if the text passed looks like a standard sentence, meaning that it starts with an uppercase letter, followed by at least some lowercase letters or a space, and ends with a period, question mark, or exclamation point. "
   ]
  },
  {
   "cell_type": "code",
   "execution_count": 58,
   "metadata": {},
   "outputs": [
    {
     "name": "stdout",
     "output_type": "stream",
     "text": [
      "True\n",
      "False\n",
      "False\n",
      "False\n",
      "True\n"
     ]
    }
   ],
   "source": [
    "import re\n",
    "def check_sentence(text):\n",
    "  result = re.search(r\"^[A-Z][\\sa-z].*[\\.\\?\\!]$\", text)\n",
    "  return result != None\n",
    "\n",
    "print(check_sentence(\"Is this is a sentence?\")) # True\n",
    "print(check_sentence(\"is this is a sentence?\")) # False\n",
    "print(check_sentence(\"Hello\")) # False\n",
    "print(check_sentence(\"1-2-3-GO!\")) # False\n",
    "print(check_sentence(\"A star is born.\")) # True"
   ]
  }
 ],
 "metadata": {
  "kernelspec": {
   "display_name": "Python 3",
   "language": "python",
   "name": "python3"
  },
  "language_info": {
   "codemirror_mode": {
    "name": "ipython",
    "version": 3
   },
   "file_extension": ".py",
   "mimetype": "text/x-python",
   "name": "python",
   "nbconvert_exporter": "python",
   "pygments_lexer": "ipython3",
   "version": "3.10.11"
  },
  "orig_nbformat": 4
 },
 "nbformat": 4,
 "nbformat_minor": 2
}
