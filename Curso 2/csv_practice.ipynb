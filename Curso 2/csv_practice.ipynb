{
 "cells": [
  {
   "cell_type": "code",
   "execution_count": null,
   "metadata": {},
   "outputs": [],
   "source": [
    "import csv\n",
    "#creamos una lista de listas\n",
    "host = [[\"workstation.local\", \"192.168.25.46\"],[\"webserver.cloud\", \"10.2.5.6\"]]\n",
    "\n",
    "#creamos el archiv CSV con el bloque de with open\n",
    "\n",
    "with open(\"host.csv\", \"w+\") as host_csv:\n",
    "    #creamos una variable para escribir el contenido en el archivo, contenido\n",
    "    #que está en nuestra variable anterior host\n",
    "    writer = csv.writer(host_csv)\n",
    "    writer.writerows(host) \n",
    "\n",
    "\n"
   ]
  }
 ],
 "metadata": {
  "kernelspec": {
   "display_name": "Python 3",
   "language": "python",
   "name": "python3"
  },
  "language_info": {
   "codemirror_mode": {
    "name": "ipython",
    "version": 3
   },
   "file_extension": ".py",
   "mimetype": "text/x-python",
   "name": "python",
   "nbconvert_exporter": "python",
   "pygments_lexer": "ipython3",
   "version": "3.10.11"
  },
  "orig_nbformat": 4
 },
 "nbformat": 4,
 "nbformat_minor": 2
}
