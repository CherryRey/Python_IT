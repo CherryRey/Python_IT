{
 "cells": [
  {
   "attachments": {},
   "cell_type": "markdown",
   "metadata": {},
   "source": [
    "# Practicando:\n",
    " * Clases\n",
    " * Métodos\n",
    " * OOP"
   ]
  },
  {
   "attachments": {},
   "cell_type": "markdown",
   "metadata": {},
   "source": [
    "##### Practicando cómo definir una clase, sus atributos.\n",
    "También practicaremos intanciar una clase por medio de una variable y a través de \"dot notation\" asignar y acceder a los atributos de ésta."
   ]
  },
  {
   "attachments": {},
   "cell_type": "markdown",
   "metadata": {},
   "source": [
    "**Primer ejemplo.**\\\n",
    "Escribamos un poema creando una clase e instanciándola."
   ]
  },
  {
   "cell_type": "code",
   "execution_count": 4,
   "metadata": {},
   "outputs": [],
   "source": [
    "# Creamos una clase llamada \"Flower\" con un atributo \"color\".\n",
    "#Recordemos que la primera letra de nuestra clase debe ser en mayúscula.\n",
    "class Flower:\n",
    "    color = 'unknown'"
   ]
  },
  {
   "cell_type": "code",
   "execution_count": 5,
   "metadata": {},
   "outputs": [],
   "source": [
    "#Instanciamos nuestra clase en una variable llamada \"rose\"\n",
    "rose = Flower()\n",
    "violet = Flower()\n",
    "\n",
    "# Asignamos el atributo por medio de dot notation:\n",
    "rose.color = \"red\"\n",
    "violet.color = \"blue\"\n"
   ]
  },
  {
   "cell_type": "code",
   "execution_count": 11,
   "metadata": {},
   "outputs": [
    {
     "name": "stdout",
     "output_type": "stream",
     "text": [
      "The rose is red,\n",
      "The violet is blue,\n",
      "Sugar is sweet,\n",
      "And so are you.\n"
     ]
    }
   ],
   "source": [
    "#Usando .format() vamos a imprimir nuestro poema:\n",
    "print(\"The rose is {},\\nThe violet is {},\\nSugar is sweet,\\nAnd so are you.\".format(rose.color, violet.color))\n"
   ]
  },
  {
   "attachments": {},
   "cell_type": "markdown",
   "metadata": {},
   "source": [
    "**Segundo ejemplo**\\\n",
    "Intercambiemos manzanas!"
   ]
  },
  {
   "cell_type": "code",
   "execution_count": 34,
   "metadata": {},
   "outputs": [],
   "source": [
    "#Creamo una clase \"Person\" con dos atributos de tipo integer\n",
    "class Person:\n",
    "    apples = 0 #iniciamos nuestra variables\n",
    "    ideas = 0"
   ]
  },
  {
   "cell_type": "code",
   "execution_count": 35,
   "metadata": {},
   "outputs": [],
   "source": [
    "#Instanciamos nuestra clase \"Person\"\n",
    "\n",
    "johanna = Person()\n",
    "johanna.apples = 1  #Le asignamos una cantidad a nuestra variable.\n",
    "johanna.ideas = 1\n",
    "\n",
    "martin = Person()\n",
    "martin.apples = 2\n",
    "martin.ideas = 1"
   ]
  },
  {
   "cell_type": "code",
   "execution_count": 36,
   "metadata": {},
   "outputs": [
    {
     "data": {
      "text/plain": [
       "(2, 2)"
      ]
     },
     "execution_count": 36,
     "metadata": {},
     "output_type": "execute_result"
    }
   ],
   "source": [
    "#Creamos una funcion llamada \"exchange_apples (you, me)\" que contiene dos parametros. \n",
    "#Vamos a intercambiar las manzanas de cada persona: si yo tengo una manzana y la otra persona tiene otra manzana, cuando las intercambiemos\n",
    "#seguiremos teniendo una manzana cada uno...\n",
    "\n",
    "def exchange_apples(you, me):\n",
    "    exchange = you.apples #Creamos una variable temporal par almacenar uno de los valores. \n",
    "    you.apples = me.apples \n",
    "    me.apples = exchange #usamos la variable temporal para que devuelva el valor original de \"you.apples\"\n",
    "\n",
    "    return you.apples, me.apples\n",
    "\n",
    "\n",
    "#Ahora crearemos otra función llamada \"exchange_ideas(you,me)\" que contiene dos parametros.\n",
    "#Ahora intercambiaremos \"ideas\", sin embargo  aquí las ideas se acumulan...\n",
    "\n",
    "def exchange_ideas(you, me):\n",
    "    you.ideas = you.ideas + me.ideas #Aquí asignamos a you.ideas la suma de you + me\n",
    "    me.ideas = you.ideas # a me.ideas asignamos el nuevo calor de you.ideas \n",
    "\n",
    "    return you.ideas, me.ideas\n",
    "\n",
    "exchange_apples(johanna, martin)\n",
    "exchange_ideas(johanna,martin)\n",
    "\n",
    "#Este bloque sólo se debe ejecutar uan vez, puesto que si se ejecuta varias veces el contador va aumentando."
   ]
  },
  {
   "cell_type": "code",
   "execution_count": 38,
   "metadata": {},
   "outputs": [
    {
     "name": "stdout",
     "output_type": "stream",
     "text": [
      "Johanna has 2 apples and Martin has 1, \n",
      "Johanna has 2 ideas and Martin has 2 ideas.\n"
     ]
    }
   ],
   "source": [
    "#Ahora veremos como las manzanas solo se intercambian de persona, mientras que las ideas aumentan para ambos.\n",
    "\n",
    "print(\"Johanna has {} apples and Martin has {}, \\nJohanna has {} ideas and Martin has {} ideas.\".format(johanna.apples, martin.apples,johanna.ideas,martin.ideas))"
   ]
  },
  {
   "attachments": {},
   "cell_type": "markdown",
   "metadata": {},
   "source": [
    "**Tercer ejemplo**\\\n",
    "Ciudad: elevación y población."
   ]
  },
  {
   "cell_type": "code",
   "execution_count": 39,
   "metadata": {},
   "outputs": [],
   "source": [
    "#Definiendo la clase \"City\"\n",
    "class City:\n",
    "    name = \"\"\n",
    "    country = \"\"\n",
    "    elevation = 0\n",
    "    population = 0\n",
    "    "
   ]
  },
  {
   "cell_type": "code",
   "execution_count": 40,
   "metadata": {},
   "outputs": [],
   "source": [
    "#creamos las tres instancias con diferentes atributos\n",
    "city1 = City()\n",
    "city1.name = \"Cusco\"\n",
    "city1.country = \"Perú\"\n",
    "city1.elevation = 3399\n",
    "city1.population = 358052\n",
    "\n",
    "city2 = City()\n",
    "city2.name = \"Sofia\"\n",
    "city2.country = \"Bulgaria\"\n",
    "city2.elevation = 2290\n",
    "city2.population = 1241675\n",
    "\n",
    "city3 = City()\n",
    "city3.name = \"Seoul\"\n",
    "city3.country = \"South Korea\"\n",
    "city3.elevation = 38\n",
    "city3.population = 9733509"
   ]
  },
  {
   "cell_type": "code",
   "execution_count": 46,
   "metadata": {},
   "outputs": [],
   "source": [
    "# Creamos una función que calcule la ciudad con la elevación más alta según la cantidad de población\n",
    "\n",
    "def max_elevation_city(min_population):\n",
    "    return_city = City() # iniciamos la variable que contendrá la información de la ciudad con la más alta elevación\n",
    "\n",
    "#Evaluamos las condiciones con \"if\"\n",
    "    if city1.population >= min_population: #Si la población de city1 es mayor o igual que min_population, devuelve city1\n",
    "        return_city = city1\n",
    "    if city2.population >= min_population and city2.elevation > return_city.elevation: #Aquí se compara además la elevación\n",
    "        return_city = city2\n",
    "    if city3.population >= min_population and city3.elevation > return_city.elevation:\n",
    "        return_city = city3\n",
    "#devolvemos la respuesta en string:\n",
    "    if return_city.name:\n",
    "        return \"{}, {}\".format(return_city.name, return_city.country)\n",
    "    else:\n",
    "        return \"\""
   ]
  },
  {
   "cell_type": "code",
   "execution_count": 45,
   "metadata": {},
   "outputs": [
    {
     "name": "stdout",
     "output_type": "stream",
     "text": [
      "Cusco, Perú\n",
      "Sofia, Bulgaria\n",
      "There's no data\n"
     ]
    }
   ],
   "source": [
    "print(max_elevation_city(100000)) # Should print \"Cusco, Peru\"\n",
    "print(max_elevation_city(1000000)) # Should print \"Sofia, Bulgaria\"\n",
    "print(max_elevation_city(10000000)) # Should print \"\""
   ]
  },
  {
   "cell_type": "markdown",
   "metadata": {},
   "source": [
    "### **Métodos de una clase**"
   ]
  },
  {
   "cell_type": "markdown",
   "metadata": {},
   "source": [
    "Practiquemos crear un método en una clase."
   ]
  },
  {
   "cell_type": "code",
   "execution_count": 1,
   "metadata": {},
   "outputs": [],
   "source": [
    "#Creamos una clase \n",
    "class Dog:\n",
    "    years = 0 #iniciamos nuestra variable\n",
    "    def dog_years(self): #creamos un método que tome la variable anterior y devuelva el resultado de la operación:\n",
    "        return self.years * 7\n",
    "    "
   ]
  },
  {
   "cell_type": "code",
   "execution_count": 2,
   "metadata": {},
   "outputs": [
    {
     "data": {
      "text/plain": [
       "21"
      ]
     },
     "execution_count": 2,
     "metadata": {},
     "output_type": "execute_result"
    }
   ],
   "source": [
    "#Instanciamos\n",
    "\n",
    "fido = Dog()\n",
    "fido.years = 3 #Le asignamos un valor al atributo \"years\"\n",
    "fido.dog_years() "
   ]
  },
  {
   "cell_type": "markdown",
   "metadata": {},
   "source": [
    "**Constructores y métodos.**\\\n",
    "Los constructores se pueden identificar con _ _ init _ _"
   ]
  },
  {
   "cell_type": "code",
   "execution_count": 3,
   "metadata": {},
   "outputs": [],
   "source": [
    "#El método especial \"__init__\" nos permite fijar el estado inicial de un objeto, cada vez que se genera la instancia de la clase. \n",
    "#Se le conoce como constructor\n",
    "class Person:\n",
    "    def __init__(self,name):\n",
    "        self.name = name\n",
    "    def greeting(self):\n",
    "        return \"Hello, my name is {}\".format(self.name)\n",
    "    "
   ]
  },
  {
   "cell_type": "code",
   "execution_count": 4,
   "metadata": {},
   "outputs": [
    {
     "data": {
      "text/plain": [
       "'Hello, my name is Chufa'"
      ]
     },
     "execution_count": 4,
     "metadata": {},
     "output_type": "execute_result"
    }
   ],
   "source": [
    "#creamos nueva instancia\n",
    "\n",
    "nombre = Person(\"Chufa\")\n",
    "nombre.greeting()"
   ]
  },
  {
   "cell_type": "markdown",
   "metadata": {},
   "source": [
    "**Método especial STR**"
   ]
  },
  {
   "cell_type": "code",
   "execution_count": 16,
   "metadata": {},
   "outputs": [],
   "source": [
    "class Apple:\n",
    "    def __init__(self, color, weight, price):\n",
    "        self.color = color\n",
    "        self.weight = weight\n",
    "        self.price = weight * price\n",
    "        \n",
    "    def __str__(self):\n",
    "        return \"This apple is {} and it costs {} dollar\".format(self.color, self.price)\n",
    "    "
   ]
  },
  {
   "cell_type": "code",
   "execution_count": 19,
   "metadata": {},
   "outputs": [
    {
     "data": {
      "text/plain": [
       "'This apple is yellow and it costs 9.0 dollar'"
      ]
     },
     "execution_count": 19,
     "metadata": {},
     "output_type": "execute_result"
    }
   ],
   "source": [
    "jonagold = Apple(\"yellow\", 30, 0.3)\n",
    "jonagold.__str__()\n"
   ]
  },
  {
   "cell_type": "markdown",
   "metadata": {},
   "source": [
    "**Herencia // Inheritence**"
   ]
  },
  {
   "cell_type": "code",
   "execution_count": 20,
   "metadata": {},
   "outputs": [],
   "source": [
    "#Creamos una clase \"padre\" con dos métodos:\n",
    "class Animal:\n",
    "    sound = \"\"\n",
    "    def __init__(self, name):\n",
    "        self.name = name\n",
    "    def speak(self):\n",
    "        return \"{sound}, I'm {name}! {sound}\".format(name=self.name, sound=self.sound)"
   ]
  },
  {
   "cell_type": "code",
   "execution_count": 21,
   "metadata": {},
   "outputs": [],
   "source": [
    "#Creamos dos clases que heredan de la clase \"Animal\", así no tenemos que reescribir el método \"speak\"\n",
    "\n",
    "class Piglet(Animal):\n",
    "    sound = \"Oink!\"\n",
    "class Cow(Animal):\n",
    "    sound = \"Moooo!\""
   ]
  },
  {
   "cell_type": "code",
   "execution_count": 25,
   "metadata": {},
   "outputs": [
    {
     "name": "stdout",
     "output_type": "stream",
     "text": [
      "Oink!, I'm Piggy! Oink!\n",
      "Moooo!, I'm Vaquita! Moooo!\n"
     ]
    }
   ],
   "source": [
    "#Instanciamos\n",
    "\n",
    "pig = Piglet(\"Piggy\")\n",
    "cow = Cow(\"Vaquita\")\n",
    "\n",
    "#llamamos al método \"speak\"\n",
    "print(pig.speak())\n",
    "print(cow.speak())"
   ]
  },
  {
   "cell_type": "code",
   "execution_count": 27,
   "metadata": {},
   "outputs": [],
   "source": [
    "#Clase Padre\n",
    "class Clothing:\n",
    "    material = \"\"\n",
    "    def __init__(self,name):\n",
    "        self.name = name\n",
    "    def checkmaterial(self):\n",
    "        print(\"This {} is made of {}\".format(self.name, self.material))"
   ]
  },
  {
   "cell_type": "code",
   "execution_count": 32,
   "metadata": {},
   "outputs": [],
   "source": [
    "#Clase hija // herencia\n",
    "\n",
    "class Shirt(Clothing):\n",
    "    material = \"cotton\""
   ]
  },
  {
   "cell_type": "code",
   "execution_count": 33,
   "metadata": {},
   "outputs": [
    {
     "name": "stdout",
     "output_type": "stream",
     "text": [
      "This Polo is made of cotton\n"
     ]
    }
   ],
   "source": [
    "#Instance\n",
    "\n",
    "polo = Shirt(\"Polo\")\n",
    "polo.checkmaterial()"
   ]
  },
  {
   "cell_type": "markdown",
   "metadata": {},
   "source": [
    "**Segundo ejemplo de herencia**"
   ]
  },
  {
   "cell_type": "code",
   "execution_count": 1,
   "metadata": {},
   "outputs": [],
   "source": [
    "#Creamos una clase padre\n",
    "\n",
    "class Animal:\n",
    "    name = \"\"\n",
    "    category = \"\"\n",
    "    def __init__(self,name):\n",
    "        self.name = name\n",
    "    def set_category(self, category):\n",
    "        self.category = category       \n"
   ]
  },
  {
   "cell_type": "code",
   "execution_count": 9,
   "metadata": {},
   "outputs": [],
   "source": [
    "#clase hija\n",
    "class Turtle (Animal):\n",
    "    category = \"reptile\"\n",
    "\n",
    "class Snake(Animal):\n",
    "    category = \"reptile\"\n",
    "\n",
    "class Frog (Animal):\n",
    "    category = \"amphibian\"\n",
    "\n",
    "class Toad (Animal):\n",
    "    category = \"amphibian\"\n"
   ]
  },
  {
   "cell_type": "markdown",
   "metadata": {},
   "source": [
    "Creamos una nueva clase que llamaremos \"ZOO\" en ella, tendremos una función que agregue instancias de las subclases de \"Animal\" que  hicimos en el boque anterior.\\\n",
    "Después de agregarlas e, tendremo una segunda función que nos permitria contar cuántos animales de cada tipo hay en el Zoo según su categoría\n"
   ]
  },
  {
   "cell_type": "code",
   "execution_count": 11,
   "metadata": {},
   "outputs": [],
   "source": [
    "class Zoo:\n",
    "    def __init__(self):\n",
    "        \"\"\"Iniciamos un diccionario en el constructor para que cada subclase tenga su propio diccionario\"\"\"\n",
    "        self.current_animals = {}\n",
    "    def add_animal(self, animal):\n",
    "        \"\"\"Función que agrega a nuestro diccionario el nombre del animal como \"key\" del diccionario.\"\"\"\n",
    "        self.current_animals[animal.name]= animal.category\n",
    "    def total_of_category(self,category):\n",
    "        \"\"\"Función que cuenta los \"values\" del diccionario por medio de un for loop\"\"\"\n",
    "        result = 0\n",
    "        for animal in self.current_animals.values():\n",
    "            if animal == category:\n",
    "                result += 1\n",
    "        return result\n",
    "    \n",
    "#instanciamos  nuestra clase\n",
    "zoo = Zoo()\n"
   ]
  },
  {
   "cell_type": "code",
   "execution_count": 17,
   "metadata": {},
   "outputs": [
    {
     "name": "stdout",
     "output_type": "stream",
     "text": [
      "Hay 2 reptiles y 2 anfibios  en el Zoo \n"
     ]
    }
   ],
   "source": [
    "#creamos instancias de nuestros animales\n",
    "\n",
    "turtle = Turtle(\"Turtle\")\n",
    "snake = Snake(\"Snake\")\n",
    "toad = Toad(\"Toad\")\n",
    "frog = Frog(\"Frog\")\n",
    "\n",
    "zoo.add_animal(turtle)\n",
    "zoo.add_animal(snake)\n",
    "zoo.add_animal(toad)\n",
    "zoo.add_animal(frog)\n",
    "\n",
    "print(\"Hay {} reptiles y {} anfibios  en el Zoo \".format(zoo.total_of_category(\"reptile\"),zoo.total_of_category(\"amphibian\")))\n"
   ]
  },
  {
   "cell_type": "markdown",
   "metadata": {},
   "source": [
    "**Object Composition**"
   ]
  },
  {
   "cell_type": "code",
   "execution_count": 34,
   "metadata": {},
   "outputs": [],
   "source": [
    "class Repository:\n",
    "    def __init__(self):\n",
    "        self.packages = {} #inicio un diccionario en el constructor para asegurarnos que cada instancia tiene su propio diccionario\n",
    "    def add_package(self, package): \n",
    "        self.packages[package.name] = package #asigno como \"key\"[package.name] a package(parámetro del método)\n",
    "    def total_size(self):#\n",
    "        result = 0\n",
    "        for package in self.packages.values():\n",
    "            result += package.size\n",
    "            return result\n",
    "    "
   ]
  }
 ],
 "metadata": {
  "kernelspec": {
   "display_name": "Python 3",
   "language": "python",
   "name": "python3"
  },
  "language_info": {
   "codemirror_mode": {
    "name": "ipython",
    "version": 3
   },
   "file_extension": ".py",
   "mimetype": "text/x-python",
   "name": "python",
   "nbconvert_exporter": "python",
   "pygments_lexer": "ipython3",
   "version": "3.10.11"
  },
  "orig_nbformat": 4
 },
 "nbformat": 4,
 "nbformat_minor": 2
}
